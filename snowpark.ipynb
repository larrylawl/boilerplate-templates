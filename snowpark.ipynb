{
 "cells": [
  {
   "cell_type": "markdown",
   "metadata": {},
   "source": [
    "# Snowpark + Notebook\n",
    "*(Written on: 29th March 2025)*\n",
    "\n",
    "Minimal example of using snowpark with notebook. "
   ]
  },
  {
   "cell_type": "markdown",
   "metadata": {},
   "source": [
    "## Setup\n",
    "\n",
    "1. Set up developer environment for snowpark python. Follow this [guide](https://docs.snowflake.com/en/developer-guide/snowpark/python/setup)\n",
    "2. Set up snowpark lab environment. Just click the button [here](https://quickstarts.snowflake.com/guide/getting_started_with_snowpark_in_snowflake_python_worksheets/index.html#1)"
   ]
  },
  {
   "cell_type": "code",
   "execution_count": null,
   "metadata": {},
   "outputs": [],
   "source": [
    "from snowflake.snowpark import Session\n",
    "import snowflake.snowpark as snowpark\n",
    "from snowflake.snowpark.functions import month,year,col,sum"
   ]
  },
  {
   "cell_type": "code",
   "execution_count": null,
   "metadata": {},
   "outputs": [
    {
     "ename": "",
     "evalue": "",
     "output_type": "error",
     "traceback": [
      "\u001b[1;31mRunning cells with 'Python 3.13.0' requires the ipykernel package.\n",
      "\u001b[1;31mRun the following command to install 'ipykernel' into the Python environment. \n",
      "\u001b[1;31mCommand: '/opt/homebrew/bin/python3 -m pip install ipykernel -U --user --force-reinstall'"
     ]
    }
   ],
   "source": [
    "connection_parameters = {\n",
    "  \"account\":  \"YOUR_ACCOUNT_IDENTIFIER\", \n",
    "  \"user\": \"YOUR_USER_NAME\",\n",
    "  \"password\": \"YOUR_PASSWORD\",\n",
    "  \"role\": \"ACCOUNTADMIN\",  # optional\n",
    "  \"warehouse\": \"SNOWPARK_DEMO_WH\",  # optional\n",
    "  \"database\": \"SNOWPARK_DEMO_DB\",  # optional\n",
    "  \"schema\": \"SNOWPARK_DEMO_SCHEMA\",  # optional\n",
    "}\n",
    "\n",
    "session = Session.builder.configs(connection_parameters).create()\n",
    "session.sql_simplifier_enabled = True\n",
    "\n",
    "# Add a query tag to the session.\n",
    "session.query_tag = {\"origin\":\"sf_sit-is\", \n",
    "                     \"name\":\"e2e_ml_snowparkpython\", \n",
    "                     \"version\":{\"major\":1, \"minor\":0,},\n",
    "                     \"attributes\":{\"is_quickstart\":1}}\n",
    "\n",
    "# Current Environment Details\n",
    "print('Connection Established with the following parameters:')\n",
    "print('User      : {}'.format(session.get_current_user()))\n",
    "print('Role      : {}'.format(session.get_current_role()))\n",
    "print('Database  : {}'.format(session.get_current_database()))\n",
    "print('Schema    : {}'.format(session.get_current_schema()))\n",
    "print('Warehouse : {}'.format(session.get_current_warehouse()))"
   ]
  },
  {
   "cell_type": "code",
   "execution_count": null,
   "metadata": {},
   "outputs": [],
   "source": [
    "# test if we can access the snowpark database\n",
    "snow_df_spend = session.table('campaign_spend')"
   ]
  },
  {
   "cell_type": "code",
   "execution_count": 14,
   "metadata": {},
   "outputs": [],
   "source": [
    "snow_df_revenue = session.table('monthly_revenue')"
   ]
  },
  {
   "cell_type": "code",
   "execution_count": 16,
   "metadata": {},
   "outputs": [],
   "source": [
    "snow_df_spend_per_channel = snow_df_spend.group_by(year('DATE'), month('DATE'),'CHANNEL').agg(sum('TOTAL_COST').as_('TOTAL_COST')).\\\n",
    "    with_column_renamed('\"YEAR(DATE)\"',\"YEAR\").with_column_renamed('\"MONTH(DATE)\"',\"MONTH\").sort('YEAR','MONTH')"
   ]
  }
 ],
 "metadata": {
  "kernelspec": {
   "display_name": ".venv",
   "language": "python",
   "name": "python3"
  },
  "language_info": {
   "codemirror_mode": {
    "name": "ipython",
    "version": 3
   },
   "file_extension": ".py",
   "mimetype": "text/x-python",
   "name": "python",
   "nbconvert_exporter": "python",
   "pygments_lexer": "ipython3",
   "version": "3.10.15"
  }
 },
 "nbformat": 4,
 "nbformat_minor": 2
}
